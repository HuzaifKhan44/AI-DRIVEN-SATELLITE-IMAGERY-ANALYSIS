{
 "cells": [
  {
   "cell_type": "code",
   "execution_count": 2,
   "id": "93c5d83b-593c-4526-b48c-4e53f6cd24c7",
   "metadata": {},
   "outputs": [
    {
     "name": "stdout",
     "output_type": "stream",
     "text": [
      "Collecting tqdm\n",
      "  Downloading tqdm-4.67.1-py3-none-any.whl.metadata (57 kB)\n",
      "Requirement already satisfied: colorama in c:\\users\\khuza\\anaconda4\\envs\\satellite-env\\lib\\site-packages (from tqdm) (0.4.6)\n",
      "Downloading tqdm-4.67.1-py3-none-any.whl (78 kB)\n",
      "Installing collected packages: tqdm\n",
      "Successfully installed tqdm-4.67.1\n"
     ]
    }
   ],
   "source": [
    "!pip install tqdm\n"
   ]
  },
  {
   "cell_type": "code",
   "execution_count": 7,
   "id": "237f313b-b7d5-46eb-99ee-bc0983e78e44",
   "metadata": {},
   "outputs": [
    {
     "ename": "RasterioIOError",
     "evalue": "data/raw/bangalore_mask.tif: No such file or directory",
     "output_type": "error",
     "traceback": [
      "\u001b[1;31m---------------------------------------------------------------------------\u001b[0m",
      "\u001b[1;31mCPLE_OpenFailedError\u001b[0m                      Traceback (most recent call last)",
      "File \u001b[1;32mrasterio\\\\_base.pyx:310\u001b[0m, in \u001b[0;36mrasterio._base.DatasetBase.__init__\u001b[1;34m()\u001b[0m\n",
      "File \u001b[1;32mrasterio\\\\_base.pyx:221\u001b[0m, in \u001b[0;36mrasterio._base.open_dataset\u001b[1;34m()\u001b[0m\n",
      "File \u001b[1;32mrasterio\\\\_err.pyx:359\u001b[0m, in \u001b[0;36mrasterio._err.exc_wrap_pointer\u001b[1;34m()\u001b[0m\n",
      "\u001b[1;31mCPLE_OpenFailedError\u001b[0m: data/raw/bangalore_mask.tif: No such file or directory",
      "\nDuring handling of the above exception, another exception occurred:\n",
      "\u001b[1;31mRasterioIOError\u001b[0m                           Traceback (most recent call last)",
      "Cell \u001b[1;32mIn[7], line 54\u001b[0m\n\u001b[0;32m     52\u001b[0m \u001b[38;5;28;01mif\u001b[39;00m \u001b[38;5;18m__name__\u001b[39m \u001b[38;5;241m==\u001b[39m \u001b[38;5;124m\"\u001b[39m\u001b[38;5;124m__main__\u001b[39m\u001b[38;5;124m\"\u001b[39m:\n\u001b[0;32m     53\u001b[0m     image \u001b[38;5;241m=\u001b[39m load_image(RGB_PATH, is_mask\u001b[38;5;241m=\u001b[39m\u001b[38;5;28;01mFalse\u001b[39;00m)\n\u001b[1;32m---> 54\u001b[0m     mask \u001b[38;5;241m=\u001b[39m \u001b[43mload_image\u001b[49m\u001b[43m(\u001b[49m\u001b[43mMASK_PATH\u001b[49m\u001b[43m,\u001b[49m\u001b[43m \u001b[49m\u001b[43mis_mask\u001b[49m\u001b[38;5;241;43m=\u001b[39;49m\u001b[38;5;28;43;01mTrue\u001b[39;49;00m\u001b[43m)\u001b[49m\n\u001b[0;32m     56\u001b[0m     mask \u001b[38;5;241m=\u001b[39m resize_if_needed(mask, image\u001b[38;5;241m.\u001b[39mshape)\n\u001b[0;32m     57\u001b[0m     image \u001b[38;5;241m=\u001b[39m normalize(image)\n",
      "Cell \u001b[1;32mIn[7], line 20\u001b[0m, in \u001b[0;36mload_image\u001b[1;34m(path, is_mask)\u001b[0m\n\u001b[0;32m     19\u001b[0m \u001b[38;5;28;01mdef\u001b[39;00m\u001b[38;5;250m \u001b[39m\u001b[38;5;21mload_image\u001b[39m(path, is_mask\u001b[38;5;241m=\u001b[39m\u001b[38;5;28;01mFalse\u001b[39;00m):\n\u001b[1;32m---> 20\u001b[0m     \u001b[38;5;28;01mwith\u001b[39;00m \u001b[43mrasterio\u001b[49m\u001b[38;5;241;43m.\u001b[39;49m\u001b[43mopen\u001b[49m\u001b[43m(\u001b[49m\u001b[43mpath\u001b[49m\u001b[43m)\u001b[49m \u001b[38;5;28;01mas\u001b[39;00m src:\n\u001b[0;32m     21\u001b[0m         data \u001b[38;5;241m=\u001b[39m src\u001b[38;5;241m.\u001b[39mread()\n\u001b[0;32m     22\u001b[0m     \u001b[38;5;28;01mreturn\u001b[39;00m data[\u001b[38;5;241m0\u001b[39m] \u001b[38;5;28;01mif\u001b[39;00m is_mask \u001b[38;5;28;01melse\u001b[39;00m data\u001b[38;5;241m.\u001b[39mtranspose(\u001b[38;5;241m1\u001b[39m, \u001b[38;5;241m2\u001b[39m, \u001b[38;5;241m0\u001b[39m)\n",
      "File \u001b[1;32m~\\anaconda4\\envs\\satellite-env\\lib\\site-packages\\rasterio\\env.py:463\u001b[0m, in \u001b[0;36mensure_env_with_credentials.<locals>.wrapper\u001b[1;34m(*args, **kwds)\u001b[0m\n\u001b[0;32m    460\u001b[0m     session \u001b[38;5;241m=\u001b[39m DummySession()\n\u001b[0;32m    462\u001b[0m \u001b[38;5;28;01mwith\u001b[39;00m env_ctor(session\u001b[38;5;241m=\u001b[39msession):\n\u001b[1;32m--> 463\u001b[0m     \u001b[38;5;28;01mreturn\u001b[39;00m f(\u001b[38;5;241m*\u001b[39margs, \u001b[38;5;241m*\u001b[39m\u001b[38;5;241m*\u001b[39mkwds)\n",
      "File \u001b[1;32m~\\anaconda4\\envs\\satellite-env\\lib\\site-packages\\rasterio\\__init__.py:368\u001b[0m, in \u001b[0;36mopen\u001b[1;34m(fp, mode, driver, width, height, count, crs, transform, dtype, nodata, sharing, opener, **kwargs)\u001b[0m\n\u001b[0;32m    365\u001b[0m     path \u001b[38;5;241m=\u001b[39m _parse_path(raw_dataset_path)\n\u001b[0;32m    367\u001b[0m \u001b[38;5;28;01mif\u001b[39;00m mode \u001b[38;5;241m==\u001b[39m \u001b[38;5;124m\"\u001b[39m\u001b[38;5;124mr\u001b[39m\u001b[38;5;124m\"\u001b[39m:\n\u001b[1;32m--> 368\u001b[0m     dataset \u001b[38;5;241m=\u001b[39m DatasetReader(path, driver\u001b[38;5;241m=\u001b[39mdriver, sharing\u001b[38;5;241m=\u001b[39msharing, \u001b[38;5;241m*\u001b[39m\u001b[38;5;241m*\u001b[39mkwargs)\n\u001b[0;32m    369\u001b[0m \u001b[38;5;28;01melif\u001b[39;00m mode \u001b[38;5;241m==\u001b[39m \u001b[38;5;124m\"\u001b[39m\u001b[38;5;124mr+\u001b[39m\u001b[38;5;124m\"\u001b[39m:\n\u001b[0;32m    370\u001b[0m     dataset \u001b[38;5;241m=\u001b[39m get_writer_for_path(path, driver\u001b[38;5;241m=\u001b[39mdriver)(\n\u001b[0;32m    371\u001b[0m         path, mode, driver\u001b[38;5;241m=\u001b[39mdriver, sharing\u001b[38;5;241m=\u001b[39msharing, \u001b[38;5;241m*\u001b[39m\u001b[38;5;241m*\u001b[39mkwargs\n\u001b[0;32m    372\u001b[0m     )\n",
      "File \u001b[1;32mrasterio\\\\_base.pyx:312\u001b[0m, in \u001b[0;36mrasterio._base.DatasetBase.__init__\u001b[1;34m()\u001b[0m\n",
      "\u001b[1;31mRasterioIOError\u001b[0m: data/raw/bangalore_mask.tif: No such file or directory"
     ]
    }
   ],
   "source": [
    "import os\n",
    "import numpy as np\n",
    "import rasterio\n",
    "from rasterio.windows import Window\n",
    "from pathlib import Path\n",
    "from tqdm import tqdm\n",
    "\n",
    "# === CONFIG ===\n",
    "RGB_PATH =r\"C:\\Users\\khuza\\OneDrive\\Desktop\\Data science course\\DATA SCIENCE COURSE\\PROJECTS\\AI-DRIVEN SATELLITE ANALYSIS\\data\\raw\\bangalore_rgb.tif\"\n",
    "MASK_PATH = \"data/raw/bangalore_mask.tif\"\n",
    "PATCH_SIZE = 128\n",
    "STRIDE = 128\n",
    "IMAGE_SAVE_DIR = \"data/patches/images\"\n",
    "MASK_SAVE_DIR = \"data/patches/masks\"\n",
    "os.makedirs(IMAGE_SAVE_DIR, exist_ok=True)\n",
    "os.makedirs(MASK_SAVE_DIR, exist_ok=True)\n",
    "\n",
    "# === LOAD TIF IMAGES ===\n",
    "def load_image(path, is_mask=False):\n",
    "    with rasterio.open(path) as src:\n",
    "        data = src.read()\n",
    "    return data[0] if is_mask else data.transpose(1, 2, 0)\n",
    "\n",
    "# === NORMALIZE RGB TO [0, 1] ===\n",
    "def normalize(image):\n",
    "    return image / 10000.0\n",
    "\n",
    "# === RESIZE MASK TO MATCH RGB IF SHAPE DIFFERS ===\n",
    "def resize_if_needed(mask, target_shape):\n",
    "    if mask.shape != target_shape[:2]:\n",
    "        print(\"⚠️ Mask shape doesn't match RGB. Resizing...\")\n",
    "        from skimage.transform import resize\n",
    "        return resize(mask, target_shape[:2], order=0, preserve_range=True).astype(mask.dtype)\n",
    "    return mask\n",
    "\n",
    "# === EXTRACT PATCHES ===\n",
    "def extract_image_mask_patches(image, mask, patch_size, stride):\n",
    "    H, W = image.shape[:2]\n",
    "    patch_id = 0\n",
    "    for i in tqdm(range(0, H - patch_size + 1, stride), desc=\"Extracting patches\"):\n",
    "        for j in range(0, W - patch_size + 1, stride):\n",
    "            img_patch = image[i:i+patch_size, j:j+patch_size, :]\n",
    "            mask_patch = mask[i:i+patch_size, j:j+patch_size]\n",
    "\n",
    "            np.save(f\"{IMAGE_SAVE_DIR}/patch_{patch_id:04d}.npy\", img_patch)\n",
    "            np.save(f\"{MASK_SAVE_DIR}/patch_{patch_id:04d}.npy\", mask_patch)\n",
    "\n",
    "            patch_id += 1\n",
    "    print(f\"✅ Extracted {patch_id} (image, mask) patch pairs.\")\n",
    "\n",
    "# === MAIN PIPELINE ===\n",
    "if __name__ == \"__main__\":\n",
    "    image = load_image(RGB_PATH, is_mask=False)\n",
    "    mask = load_image(MASK_PATH, is_mask=True)\n",
    "\n",
    "    mask = resize_if_needed(mask, image.shape)\n",
    "    image = normalize(image)\n",
    "\n",
    "    extract_image_mask_patches(image, mask, PATCH_SIZE, STRIDE)"
   ]
  },
  {
   "cell_type": "code",
   "execution_count": null,
   "id": "3cb46ee5-8628-4116-b96a-22ed97fcce1d",
   "metadata": {},
   "outputs": [],
   "source": []
  }
 ],
 "metadata": {
  "kernelspec": {
   "display_name": "Python (satellite-env)",
   "language": "python",
   "name": "satellite-env"
  },
  "language_info": {
   "codemirror_mode": {
    "name": "ipython",
    "version": 3
   },
   "file_extension": ".py",
   "mimetype": "text/x-python",
   "name": "python",
   "nbconvert_exporter": "python",
   "pygments_lexer": "ipython3",
   "version": "3.10.13"
  }
 },
 "nbformat": 4,
 "nbformat_minor": 5
}
