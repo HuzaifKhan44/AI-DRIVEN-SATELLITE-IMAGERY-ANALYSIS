{
 "cells": [
  {
   "cell_type": "code",
   "execution_count": 19,
   "id": "48faa7c8-1481-4c8c-96d6-cc9ac9d7098e",
   "metadata": {},
   "outputs": [
    {
     "name": "stdout",
     "output_type": "stream",
     "text": [
      "Requirement already satisfied: earthengine-api in c:\\users\\khuza\\anaconda4\\lib\\site-packages (1.5.23)\n",
      "Requirement already satisfied: google-cloud-storage in c:\\users\\khuza\\anaconda4\\lib\\site-packages (from earthengine-api) (3.2.0)\n",
      "Requirement already satisfied: google-api-python-client>=1.12.1 in c:\\users\\khuza\\anaconda4\\lib\\site-packages (from earthengine-api) (2.175.0)\n",
      "Requirement already satisfied: google-auth>=1.4.1 in c:\\users\\khuza\\anaconda4\\lib\\site-packages (from earthengine-api) (2.40.3)\n",
      "Requirement already satisfied: google-auth-httplib2>=0.0.3 in c:\\users\\khuza\\anaconda4\\lib\\site-packages (from earthengine-api) (0.2.0)\n",
      "Requirement already satisfied: httplib2<1dev,>=0.9.2 in c:\\users\\khuza\\anaconda4\\lib\\site-packages (from earthengine-api) (0.22.0)\n",
      "Requirement already satisfied: requests in c:\\users\\khuza\\anaconda4\\lib\\site-packages (from earthengine-api) (2.32.3)\n",
      "Requirement already satisfied: google-api-core!=2.0.*,!=2.1.*,!=2.2.*,!=2.3.0,<3.0.0,>=1.31.5 in c:\\users\\khuza\\anaconda4\\lib\\site-packages (from google-api-python-client>=1.12.1->earthengine-api) (2.25.1)\n",
      "Requirement already satisfied: uritemplate<5,>=3.0.1 in c:\\users\\khuza\\anaconda4\\lib\\site-packages (from google-api-python-client>=1.12.1->earthengine-api) (4.2.0)\n",
      "Requirement already satisfied: cachetools<6.0,>=2.0.0 in c:\\users\\khuza\\anaconda4\\lib\\site-packages (from google-auth>=1.4.1->earthengine-api) (5.3.3)\n",
      "Requirement already satisfied: pyasn1-modules>=0.2.1 in c:\\users\\khuza\\anaconda4\\lib\\site-packages (from google-auth>=1.4.1->earthengine-api) (0.2.8)\n",
      "Requirement already satisfied: rsa<5,>=3.1.4 in c:\\users\\khuza\\anaconda4\\lib\\site-packages (from google-auth>=1.4.1->earthengine-api) (4.9.1)\n",
      "Requirement already satisfied: pyparsing!=3.0.0,!=3.0.1,!=3.0.2,!=3.0.3,<4,>=2.4.2 in c:\\users\\khuza\\anaconda4\\lib\\site-packages (from httplib2<1dev,>=0.9.2->earthengine-api) (3.1.2)\n",
      "Requirement already satisfied: google-cloud-core<3.0.0,>=2.4.2 in c:\\users\\khuza\\anaconda4\\lib\\site-packages (from google-cloud-storage->earthengine-api) (2.4.3)\n",
      "Requirement already satisfied: google-resumable-media<3.0.0,>=2.7.2 in c:\\users\\khuza\\anaconda4\\lib\\site-packages (from google-cloud-storage->earthengine-api) (2.7.2)\n",
      "Requirement already satisfied: google-crc32c<2.0.0,>=1.1.3 in c:\\users\\khuza\\anaconda4\\lib\\site-packages (from google-cloud-storage->earthengine-api) (1.7.1)\n",
      "Requirement already satisfied: charset-normalizer<4,>=2 in c:\\users\\khuza\\anaconda4\\lib\\site-packages (from requests->earthengine-api) (3.3.2)\n",
      "Requirement already satisfied: idna<4,>=2.5 in c:\\users\\khuza\\anaconda4\\lib\\site-packages (from requests->earthengine-api) (3.7)\n",
      "Requirement already satisfied: urllib3<3,>=1.21.1 in c:\\users\\khuza\\anaconda4\\lib\\site-packages (from requests->earthengine-api) (2.2.3)\n",
      "Requirement already satisfied: certifi>=2017.4.17 in c:\\users\\khuza\\anaconda4\\lib\\site-packages (from requests->earthengine-api) (2025.1.31)\n",
      "Requirement already satisfied: googleapis-common-protos<2.0.0,>=1.56.2 in c:\\users\\khuza\\anaconda4\\lib\\site-packages (from google-api-core!=2.0.*,!=2.1.*,!=2.2.*,!=2.3.0,<3.0.0,>=1.31.5->google-api-python-client>=1.12.1->earthengine-api) (1.70.0)\n",
      "Requirement already satisfied: protobuf!=3.20.0,!=3.20.1,!=4.21.0,!=4.21.1,!=4.21.2,!=4.21.3,!=4.21.4,!=4.21.5,<7.0.0,>=3.19.5 in c:\\users\\khuza\\anaconda4\\lib\\site-packages (from google-api-core!=2.0.*,!=2.1.*,!=2.2.*,!=2.3.0,<3.0.0,>=1.31.5->google-api-python-client>=1.12.1->earthengine-api) (4.25.3)\n",
      "Requirement already satisfied: proto-plus<2.0.0,>=1.22.3 in c:\\users\\khuza\\anaconda4\\lib\\site-packages (from google-api-core!=2.0.*,!=2.1.*,!=2.2.*,!=2.3.0,<3.0.0,>=1.31.5->google-api-python-client>=1.12.1->earthengine-api) (1.26.1)\n",
      "Requirement already satisfied: pyasn1<0.5.0,>=0.4.6 in c:\\users\\khuza\\anaconda4\\lib\\site-packages (from pyasn1-modules>=0.2.1->google-auth>=1.4.1->earthengine-api) (0.4.8)\n",
      "✅ Export task started. Check your Google Drive in ~5–10 minutes.\n"
     ]
    }
   ],
   "source": [
    "!pip install earthengine-api\n",
    "import ee\n",
    "ee.Initialize(project=\"majestic-poetry-465305-d6\")\n",
    "\n",
    "# Define the region (Example: Bengaluru, India)\n",
    "region = ee.Geometry.Rectangle([77.4, 12.8, 77.8, 13.2])  # [min lon, min lat, max lon, max lat]\n",
    "\n",
    "# Get Sentinel-2 image collection\n",
    "image = (\n",
    "    ee.ImageCollection(\"COPERNICUS/S2_SR_HARMONIZED\")\n",
    "    .filterDate(\"2022-01-01\", \"2022-01-15\")\n",
    "    .filterBounds(region)\n",
    "    .filter(ee.Filter.lt(\"CLOUDY_PIXEL_PERCENTAGE\", 10))\n",
    "    .first()\n",
    "    .select([\"B4\", \"B3\", \"B2\"])  # RGB\n",
    ")\n",
    "\n",
    "# Export image to Google Drive\n",
    "task = ee.batch.Export.image.toDrive(\n",
    "    image=image,\n",
    "    description=\"Sentinel_Export_Bangalore\",\n",
    "    folder=\"satellite_ai\",\n",
    "    fileNamePrefix=\"bangalore_rgb\",\n",
    "    region=region,\n",
    "    scale=10,\n",
    "    maxPixels=1e9,\n",
    "    fileFormat=\"GeoTIFF\"\n",
    ")\n",
    "\n",
    "task.start()\n",
    "print(\"✅ Export task started. Check your Google Drive in ~5–10 minutes.\")\n"
   ]
  },
  {
   "cell_type": "code",
   "execution_count": null,
   "id": "1522c9e2-d81b-45b8-91b8-7e3b873078ad",
   "metadata": {},
   "outputs": [],
   "source": []
  }
 ],
 "metadata": {
  "kernelspec": {
   "display_name": "Python 3 (ipykernel)",
   "language": "python",
   "name": "python3"
  },
  "language_info": {
   "codemirror_mode": {
    "name": "ipython",
    "version": 3
   },
   "file_extension": ".py",
   "mimetype": "text/x-python",
   "name": "python",
   "nbconvert_exporter": "python",
   "pygments_lexer": "ipython3",
   "version": "3.11.4"
  }
 },
 "nbformat": 4,
 "nbformat_minor": 5
}
