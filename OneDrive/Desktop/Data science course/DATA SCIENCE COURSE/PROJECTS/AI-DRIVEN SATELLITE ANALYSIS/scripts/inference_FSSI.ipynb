{
 "cells": [
  {
   "cell_type": "code",
   "execution_count": 3,
   "id": "62cc3cda-0ee1-4aa6-9e1f-a2a3eb719579",
   "metadata": {},
   "outputs": [
    {
     "name": "stdout",
     "output_type": "stream",
     "text": [
      "Collecting scikit-image\n",
      "  Downloading scikit_image-0.25.2-cp310-cp310-win_amd64.whl.metadata (14 kB)\n",
      "Requirement already satisfied: numpy>=1.24 in c:\\users\\khuza\\anaconda4\\envs\\satellite-env\\lib\\site-packages (from scikit-image) (1.24.4)\n",
      "Requirement already satisfied: scipy>=1.11.4 in c:\\users\\khuza\\anaconda4\\envs\\satellite-env\\lib\\site-packages (from scikit-image) (1.15.3)\n",
      "Requirement already satisfied: networkx>=3.0 in c:\\users\\khuza\\anaconda4\\envs\\satellite-env\\lib\\site-packages (from scikit-image) (3.4.2)\n",
      "Requirement already satisfied: pillow>=10.1 in c:\\users\\khuza\\anaconda4\\envs\\satellite-env\\lib\\site-packages (from scikit-image) (11.3.0)\n",
      "Collecting imageio!=2.35.0,>=2.33 (from scikit-image)\n",
      "  Downloading imageio-2.37.0-py3-none-any.whl.metadata (5.2 kB)\n",
      "Collecting tifffile>=2022.8.12 (from scikit-image)\n",
      "  Downloading tifffile-2025.5.10-py3-none-any.whl.metadata (31 kB)\n",
      "Requirement already satisfied: packaging>=21 in c:\\users\\khuza\\anaconda4\\envs\\satellite-env\\lib\\site-packages (from scikit-image) (24.2)\n",
      "Collecting lazy-loader>=0.4 (from scikit-image)\n",
      "  Downloading lazy_loader-0.4-py3-none-any.whl.metadata (7.6 kB)\n",
      "Downloading scikit_image-0.25.2-cp310-cp310-win_amd64.whl (12.8 MB)\n",
      "   ---------------------------------------- 0.0/12.8 MB ? eta -:--:--\n",
      "   - -------------------------------------- 0.5/12.8 MB 5.6 MB/s eta 0:00:03\n",
      "   ---- ----------------------------------- 1.6/12.8 MB 5.6 MB/s eta 0:00:03\n",
      "   -------- ------------------------------- 2.6/12.8 MB 6.0 MB/s eta 0:00:02\n",
      "   ------------ --------------------------- 3.9/12.8 MB 5.9 MB/s eta 0:00:02\n",
      "   ---------------- ----------------------- 5.2/12.8 MB 5.7 MB/s eta 0:00:02\n",
      "   ------------------- -------------------- 6.3/12.8 MB 5.7 MB/s eta 0:00:02\n",
      "   ---------------------- ----------------- 7.3/12.8 MB 5.5 MB/s eta 0:00:01\n",
      "   --------------------------- ------------ 8.7/12.8 MB 5.5 MB/s eta 0:00:01\n",
      "   ----------------------------- ---------- 9.4/12.8 MB 5.5 MB/s eta 0:00:01\n",
      "   ------------------------------ --------- 9.7/12.8 MB 5.3 MB/s eta 0:00:01\n",
      "   ------------------------------------ --- 11.5/12.8 MB 5.2 MB/s eta 0:00:01\n",
      "   ---------------------------------------  12.6/12.8 MB 5.3 MB/s eta 0:00:01\n",
      "   ---------------------------------------- 12.8/12.8 MB 5.2 MB/s eta 0:00:00\n",
      "Downloading imageio-2.37.0-py3-none-any.whl (315 kB)\n",
      "Downloading lazy_loader-0.4-py3-none-any.whl (12 kB)\n",
      "Downloading tifffile-2025.5.10-py3-none-any.whl (226 kB)\n",
      "Installing collected packages: tifffile, lazy-loader, imageio, scikit-image\n",
      "\n",
      "   ---------------------------------------- 0/4 [tifffile]\n",
      "   -------------------- ------------------- 2/4 [imageio]\n",
      "   -------------------- ------------------- 2/4 [imageio]\n",
      "   -------------------- ------------------- 2/4 [imageio]\n",
      "   ------------------------------ --------- 3/4 [scikit-image]\n",
      "   ------------------------------ --------- 3/4 [scikit-image]\n",
      "   ------------------------------ --------- 3/4 [scikit-image]\n",
      "   ------------------------------ --------- 3/4 [scikit-image]\n",
      "   ------------------------------ --------- 3/4 [scikit-image]\n",
      "   ------------------------------ --------- 3/4 [scikit-image]\n",
      "   ------------------------------ --------- 3/4 [scikit-image]\n",
      "   ------------------------------ --------- 3/4 [scikit-image]\n",
      "   ------------------------------ --------- 3/4 [scikit-image]\n",
      "   ------------------------------ --------- 3/4 [scikit-image]\n",
      "   ------------------------------ --------- 3/4 [scikit-image]\n",
      "   ------------------------------ --------- 3/4 [scikit-image]\n",
      "   ------------------------------ --------- 3/4 [scikit-image]\n",
      "   ------------------------------ --------- 3/4 [scikit-image]\n",
      "   ------------------------------ --------- 3/4 [scikit-image]\n",
      "   ------------------------------ --------- 3/4 [scikit-image]\n",
      "   ------------------------------ --------- 3/4 [scikit-image]\n",
      "   ---------------------------------------- 4/4 [scikit-image]\n",
      "\n",
      "Successfully installed imageio-2.37.0 lazy-loader-0.4 scikit-image-0.25.2 tifffile-2025.5.10\n"
     ]
    }
   ],
   "source": [
    "!pip install scikit-image\n"
   ]
  },
  {
   "cell_type": "code",
   "execution_count": null,
   "id": "54ed5e57-485a-421d-9757-c080338a4688",
   "metadata": {},
   "outputs": [
    {
     "name": "stdout",
     "output_type": "stream",
     "text": [
      "[INFO] Extracted 4692 patches from full image.\n"
     ]
    },
    {
     "name": "stderr",
     "output_type": "stream",
     "text": [
      "Predicting patches: 100%|██████████████████████████████████████████████████████████████████████████████████████████████| 4692/4692 [07:02<00:00, 11.10it/s]\n"
     ]
    },
    {
     "ename": "NameError",
     "evalue": "name 'os' is not defined",
     "output_type": "error",
     "traceback": [
      "\u001b[1;31m---------------------------------------------------------------------------\u001b[0m",
      "\u001b[1;31mNameError\u001b[0m                                 Traceback (most recent call last)",
      "Cell \u001b[1;32mIn[3], line 58\u001b[0m\n\u001b[0;32m     56\u001b[0m plt\u001b[38;5;241m.\u001b[39mtitle(\u001b[38;5;124m\"\u001b[39m\u001b[38;5;124mFull Image Prediction\u001b[39m\u001b[38;5;124m\"\u001b[39m)\n\u001b[0;32m     57\u001b[0m plt\u001b[38;5;241m.\u001b[39maxis(\u001b[38;5;124m\"\u001b[39m\u001b[38;5;124moff\u001b[39m\u001b[38;5;124m\"\u001b[39m)\n\u001b[1;32m---> 58\u001b[0m \u001b[43mos\u001b[49m\u001b[38;5;241m.\u001b[39mmakedirs(\u001b[38;5;124m\"\u001b[39m\u001b[38;5;124mreports/figures\u001b[39m\u001b[38;5;124m\"\u001b[39m, exist_ok\u001b[38;5;241m=\u001b[39m\u001b[38;5;28;01mTrue\u001b[39;00m)\n\u001b[0;32m     59\u001b[0m plt\u001b[38;5;241m.\u001b[39msavefig(\u001b[38;5;124m\"\u001b[39m\u001b[38;5;124mreports/figures/full_image_prediction.png\u001b[39m\u001b[38;5;124m\"\u001b[39m, dpi\u001b[38;5;241m=\u001b[39m\u001b[38;5;241m300\u001b[39m)\n\u001b[0;32m     60\u001b[0m \u001b[38;5;28mprint\u001b[39m(\u001b[38;5;124m\"\u001b[39m\u001b[38;5;124m[INFO] Full-size prediction saved to reports/figures/full_image_prediction.png\u001b[39m\u001b[38;5;124m\"\u001b[39m)\n",
      "\u001b[1;31mNameError\u001b[0m: name 'os' is not defined"
     ]
    }
   ],
   "source": [
    "import rasterio\n",
    "from torchvision.transforms.functional import to_tensor\n",
    "from skimage.util import view_as_windows\n",
    "import numpy as np\n",
    "import torch\n",
    "import sys\n",
    "sys.path.append(\"scripts\")  # Make scripts/ importable\n",
    "from model import UNet\n",
    "from tqdm import tqdm\n",
    "import matplotlib.pyplot as plt\n",
    "\n",
    "\n",
    "\n",
    "# Load full image\n",
    "full_img_path =r\"C:\\Users\\khuza\\OneDrive\\Desktop\\Data science course\\DATA SCIENCE COURSE\\PROJECTS\\AI-DRIVEN SATELLITE ANALYSIS\\data\\raw\\bangalore_rgb.tif\"\n",
    "with rasterio.open(full_img_path) as src:\n",
    "    full_image = src.read().astype(np.float32)  # Shape: (C, H, W)\n",
    "\n",
    "# Normalize\n",
    "full_image = (full_image - full_image.min()) / (full_image.max() - full_image.min() + 1e-8)\n",
    "\n",
    "# Create patches (same as training size)\n",
    "PATCH_SIZE = 64\n",
    "STRIDE = 64\n",
    "C, H, W = full_image.shape\n",
    "\n",
    "windows = view_as_windows(full_image, (C, PATCH_SIZE, PATCH_SIZE), step=STRIDE)\n",
    "windows = windows.reshape(-1, C, PATCH_SIZE, PATCH_SIZE)\n",
    "\n",
    "print(f\"[INFO] Extracted {len(windows)} patches from full image.\")\n",
    "\n",
    "# Load the model\n",
    "model = UNet(in_channels=3, out_channels=1)\n",
    "model.load_state_dict(torch.load(r\"C:\\Users\\khuza\\OneDrive\\Desktop\\Data science course\\DATA SCIENCE COURSE\\PROJECTS\\AI-DRIVEN SATELLITE ANALYSIS\\models\\unet_trained.pth\", map_location=\"cuda\" if torch.cuda.is_available() else \"cpu\"))\n",
    "device = torch.device(\"cuda\" if torch.cuda.is_available() else \"cpu\")\n",
    "model.to(device)\n",
    "model.eval()\n",
    "\n",
    "# Inference on all patches\n",
    "preds = []\n",
    "model.eval()\n",
    "with torch.no_grad():\n",
    "    for patch in tqdm(windows, desc=\"Predicting patches\"):\n",
    "        patch_tensor = torch.from_numpy(patch).unsqueeze(0).to(device)\n",
    "        output = model(patch_tensor)\n",
    "        output = torch.sigmoid(output).squeeze().cpu().numpy()\n",
    "        preds.append(output)\n",
    "\n",
    "# Reconstruct full prediction map\n",
    "preds = np.array(preds).reshape((H // STRIDE, W // STRIDE, PATCH_SIZE, PATCH_SIZE))\n",
    "reconstructed = np.block([[preds[i, j] for j in range(preds.shape[1])] for i in range(preds.shape[0])])\n",
    "\n",
    "# Save or visualize\n",
    "plt.figure(figsize=(10, 8))\n",
    "plt.imshow(reconstructed, cmap=\"gray\")\n",
    "plt.title(\"Full Image Prediction\")\n",
    "plt.axis(\"off\")\n",
    "os.makedirs(\"reports/figures\", exist_ok=True)\n",
    "plt.savefig(\"reports/figures/full_image_prediction.png\", dpi=300)\n",
    "print(\"[INFO] Full-size prediction saved to reports/figures/full_image_prediction.png\")\n",
    "plt.show()\n"
   ]
  },
  {
   "cell_type": "code",
   "execution_count": null,
   "id": "05bd55e3-b1cc-41ed-ab03-f5247ea1e1e6",
   "metadata": {},
   "outputs": [],
   "source": []
  }
 ],
 "metadata": {
  "kernelspec": {
   "display_name": "Python (satellite-env)",
   "language": "python",
   "name": "satellite-env"
  },
  "language_info": {
   "codemirror_mode": {
    "name": "ipython",
    "version": 3
   },
   "file_extension": ".py",
   "mimetype": "text/x-python",
   "name": "python",
   "nbconvert_exporter": "python",
   "pygments_lexer": "ipython3",
   "version": "3.10.13"
  }
 },
 "nbformat": 4,
 "nbformat_minor": 5
}
